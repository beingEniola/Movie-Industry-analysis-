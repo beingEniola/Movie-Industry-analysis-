{
 "cells": [
  {
   "cell_type": "markdown",
   "id": "72885a1b",
   "metadata": {},
   "source": [
    "# Table of contents\n",
    "\n",
    "- [Introduction](#introduction)\n",
    "- [Data Assessing](#data-assessing)\n",
    "- [Data Cleaning](#data-cleaning)\n",
    "- [Exploratory Analysis](#exploratory-analysis)"
   ]
  },
  {
   "cell_type": "markdown",
   "id": "69e6c663",
   "metadata": {},
   "source": [
    "<a id='introduction'></a>\n",
    "# INTRODUCTION"
   ]
  },
  {
   "cell_type": "markdown",
   "id": "ae84fc0f",
   "metadata": {},
   "source": [
    "Lights, camera, data! Welcome to the backstage of the movie industry, where every number has a story to tell, and every chart unveils a reel of insights as I analyse this movie industry dataset. Get ready for a cinematic journey!"
   ]
  },
  {
   "cell_type": "markdown",
   "id": "945a5933",
   "metadata": {},
   "source": [
    "## Dataset Description "
   ]
  },
  {
   "cell_type": "markdown",
   "id": "c0c7e075",
   "metadata": {},
   "source": [
    "This dataset collects information of over 7000 movies on IMDB between the year 1980-2020 gotten from [kaggle](https://www.kaggle.com/datasets/danielgrijalvas/movies). \n",
    "In this analysis I would be answering some questions which are: \n",
    "1. Top director based on movie ratings\n",
    "2. Top genre based on revenue generated \n",
    "3. Most produced movies genre\n",
    "3. Country that produced the most movies\n",
    "4. Trends in movie production \n",
    "5. Budget distribution of movies \n",
    "5. Budget and gross relationship \n",
    "5. Correlation analysis \n",
    "6. Company performance \n",
    "\n",
    "Get your popcorn ready, the real show is about to start!"
   ]
  },
  {
   "cell_type": "code",
   "execution_count": 3,
   "id": "61853771",
   "metadata": {},
   "outputs": [],
   "source": [
    "# import necessary libraries needed in this analysis\n",
    "import warnings\n",
    "import pandas as pd\n",
    "import numpy as np\n",
    "import seaborn as sns\n",
    "import matplotlib.pyplot as plt\n",
    "\n",
    "sns.set_style('darkgrid')\n",
    "sns.set(rc={\"figure.figsize\":(16,6)})"
   ]
  },
  {
   "cell_type": "code",
   "execution_count": 4,
   "id": "53c3223c",
   "metadata": {},
   "outputs": [],
   "source": [
    "# load the dataset \n",
    "df=pd.read_csv('movies.csv')"
   ]
  },
  {
   "cell_type": "markdown",
   "id": "ec20cec4",
   "metadata": {},
   "source": [
    "<a id='data-assessing'></a>\n",
    "# DATA ASSESSING"
   ]
  },
  {
   "cell_type": "markdown",
   "id": "be1184f3",
   "metadata": {},
   "source": [
    "In this episode, I will assess the data for data quality issues such as missing data, incorrect datatypes, duplicates and data tidiness issues."
   ]
  },
  {
   "cell_type": "code",
   "execution_count": 5,
   "id": "85bf6cae",
   "metadata": {},
   "outputs": [
    {
     "data": {
      "text/html": [
       "<div>\n",
       "<style scoped>\n",
       "    .dataframe tbody tr th:only-of-type {\n",
       "        vertical-align: middle;\n",
       "    }\n",
       "\n",
       "    .dataframe tbody tr th {\n",
       "        vertical-align: top;\n",
       "    }\n",
       "\n",
       "    .dataframe thead th {\n",
       "        text-align: right;\n",
       "    }\n",
       "</style>\n",
       "<table border=\"1\" class=\"dataframe\">\n",
       "  <thead>\n",
       "    <tr style=\"text-align: right;\">\n",
       "      <th></th>\n",
       "      <th>name</th>\n",
       "      <th>rating</th>\n",
       "      <th>genre</th>\n",
       "      <th>year</th>\n",
       "      <th>released</th>\n",
       "      <th>score</th>\n",
       "      <th>votes</th>\n",
       "      <th>director</th>\n",
       "      <th>writer</th>\n",
       "      <th>star</th>\n",
       "      <th>country</th>\n",
       "      <th>budget</th>\n",
       "      <th>gross</th>\n",
       "      <th>company</th>\n",
       "      <th>runtime</th>\n",
       "    </tr>\n",
       "  </thead>\n",
       "  <tbody>\n",
       "    <tr>\n",
       "      <th>0</th>\n",
       "      <td>The Shining</td>\n",
       "      <td>R</td>\n",
       "      <td>Drama</td>\n",
       "      <td>1980</td>\n",
       "      <td>June 13, 1980 (United States)</td>\n",
       "      <td>8.4</td>\n",
       "      <td>927000.0</td>\n",
       "      <td>Stanley Kubrick</td>\n",
       "      <td>Stephen King</td>\n",
       "      <td>Jack Nicholson</td>\n",
       "      <td>United Kingdom</td>\n",
       "      <td>19000000.0</td>\n",
       "      <td>46998772.0</td>\n",
       "      <td>Warner Bros.</td>\n",
       "      <td>146.0</td>\n",
       "    </tr>\n",
       "    <tr>\n",
       "      <th>1</th>\n",
       "      <td>The Blue Lagoon</td>\n",
       "      <td>R</td>\n",
       "      <td>Adventure</td>\n",
       "      <td>1980</td>\n",
       "      <td>July 2, 1980 (United States)</td>\n",
       "      <td>5.8</td>\n",
       "      <td>65000.0</td>\n",
       "      <td>Randal Kleiser</td>\n",
       "      <td>Henry De Vere Stacpoole</td>\n",
       "      <td>Brooke Shields</td>\n",
       "      <td>United States</td>\n",
       "      <td>4500000.0</td>\n",
       "      <td>58853106.0</td>\n",
       "      <td>Columbia Pictures</td>\n",
       "      <td>104.0</td>\n",
       "    </tr>\n",
       "    <tr>\n",
       "      <th>2</th>\n",
       "      <td>Star Wars: Episode V - The Empire Strikes Back</td>\n",
       "      <td>PG</td>\n",
       "      <td>Action</td>\n",
       "      <td>1980</td>\n",
       "      <td>June 20, 1980 (United States)</td>\n",
       "      <td>8.7</td>\n",
       "      <td>1200000.0</td>\n",
       "      <td>Irvin Kershner</td>\n",
       "      <td>Leigh Brackett</td>\n",
       "      <td>Mark Hamill</td>\n",
       "      <td>United States</td>\n",
       "      <td>18000000.0</td>\n",
       "      <td>538375067.0</td>\n",
       "      <td>Lucasfilm</td>\n",
       "      <td>124.0</td>\n",
       "    </tr>\n",
       "    <tr>\n",
       "      <th>3</th>\n",
       "      <td>Airplane!</td>\n",
       "      <td>PG</td>\n",
       "      <td>Comedy</td>\n",
       "      <td>1980</td>\n",
       "      <td>July 2, 1980 (United States)</td>\n",
       "      <td>7.7</td>\n",
       "      <td>221000.0</td>\n",
       "      <td>Jim Abrahams</td>\n",
       "      <td>Jim Abrahams</td>\n",
       "      <td>Robert Hays</td>\n",
       "      <td>United States</td>\n",
       "      <td>3500000.0</td>\n",
       "      <td>83453539.0</td>\n",
       "      <td>Paramount Pictures</td>\n",
       "      <td>88.0</td>\n",
       "    </tr>\n",
       "    <tr>\n",
       "      <th>4</th>\n",
       "      <td>Caddyshack</td>\n",
       "      <td>R</td>\n",
       "      <td>Comedy</td>\n",
       "      <td>1980</td>\n",
       "      <td>July 25, 1980 (United States)</td>\n",
       "      <td>7.3</td>\n",
       "      <td>108000.0</td>\n",
       "      <td>Harold Ramis</td>\n",
       "      <td>Brian Doyle-Murray</td>\n",
       "      <td>Chevy Chase</td>\n",
       "      <td>United States</td>\n",
       "      <td>6000000.0</td>\n",
       "      <td>39846344.0</td>\n",
       "      <td>Orion Pictures</td>\n",
       "      <td>98.0</td>\n",
       "    </tr>\n",
       "    <tr>\n",
       "      <th>...</th>\n",
       "      <td>...</td>\n",
       "      <td>...</td>\n",
       "      <td>...</td>\n",
       "      <td>...</td>\n",
       "      <td>...</td>\n",
       "      <td>...</td>\n",
       "      <td>...</td>\n",
       "      <td>...</td>\n",
       "      <td>...</td>\n",
       "      <td>...</td>\n",
       "      <td>...</td>\n",
       "      <td>...</td>\n",
       "      <td>...</td>\n",
       "      <td>...</td>\n",
       "      <td>...</td>\n",
       "    </tr>\n",
       "    <tr>\n",
       "      <th>7663</th>\n",
       "      <td>More to Life</td>\n",
       "      <td>NaN</td>\n",
       "      <td>Drama</td>\n",
       "      <td>2020</td>\n",
       "      <td>October 23, 2020 (United States)</td>\n",
       "      <td>3.1</td>\n",
       "      <td>18.0</td>\n",
       "      <td>Joseph Ebanks</td>\n",
       "      <td>Joseph Ebanks</td>\n",
       "      <td>Shannon Bond</td>\n",
       "      <td>United States</td>\n",
       "      <td>7000.0</td>\n",
       "      <td>NaN</td>\n",
       "      <td>NaN</td>\n",
       "      <td>90.0</td>\n",
       "    </tr>\n",
       "    <tr>\n",
       "      <th>7664</th>\n",
       "      <td>Dream Round</td>\n",
       "      <td>NaN</td>\n",
       "      <td>Comedy</td>\n",
       "      <td>2020</td>\n",
       "      <td>February 7, 2020 (United States)</td>\n",
       "      <td>4.7</td>\n",
       "      <td>36.0</td>\n",
       "      <td>Dusty Dukatz</td>\n",
       "      <td>Lisa Huston</td>\n",
       "      <td>Michael Saquella</td>\n",
       "      <td>United States</td>\n",
       "      <td>NaN</td>\n",
       "      <td>NaN</td>\n",
       "      <td>Cactus Blue Entertainment</td>\n",
       "      <td>90.0</td>\n",
       "    </tr>\n",
       "    <tr>\n",
       "      <th>7665</th>\n",
       "      <td>Saving Mbango</td>\n",
       "      <td>NaN</td>\n",
       "      <td>Drama</td>\n",
       "      <td>2020</td>\n",
       "      <td>April 27, 2020 (Cameroon)</td>\n",
       "      <td>5.7</td>\n",
       "      <td>29.0</td>\n",
       "      <td>Nkanya Nkwai</td>\n",
       "      <td>Lynno Lovert</td>\n",
       "      <td>Onyama Laura</td>\n",
       "      <td>United States</td>\n",
       "      <td>58750.0</td>\n",
       "      <td>NaN</td>\n",
       "      <td>Embi Productions</td>\n",
       "      <td>NaN</td>\n",
       "    </tr>\n",
       "    <tr>\n",
       "      <th>7666</th>\n",
       "      <td>It's Just Us</td>\n",
       "      <td>NaN</td>\n",
       "      <td>Drama</td>\n",
       "      <td>2020</td>\n",
       "      <td>October 1, 2020 (United States)</td>\n",
       "      <td>NaN</td>\n",
       "      <td>NaN</td>\n",
       "      <td>James Randall</td>\n",
       "      <td>James Randall</td>\n",
       "      <td>Christina Roz</td>\n",
       "      <td>United States</td>\n",
       "      <td>15000.0</td>\n",
       "      <td>NaN</td>\n",
       "      <td>NaN</td>\n",
       "      <td>120.0</td>\n",
       "    </tr>\n",
       "    <tr>\n",
       "      <th>7667</th>\n",
       "      <td>Tee em el</td>\n",
       "      <td>NaN</td>\n",
       "      <td>Horror</td>\n",
       "      <td>2020</td>\n",
       "      <td>August 19, 2020 (United States)</td>\n",
       "      <td>5.7</td>\n",
       "      <td>7.0</td>\n",
       "      <td>Pereko Mosia</td>\n",
       "      <td>Pereko Mosia</td>\n",
       "      <td>Siyabonga Mabaso</td>\n",
       "      <td>South Africa</td>\n",
       "      <td>NaN</td>\n",
       "      <td>NaN</td>\n",
       "      <td>PK 65 Films</td>\n",
       "      <td>102.0</td>\n",
       "    </tr>\n",
       "  </tbody>\n",
       "</table>\n",
       "<p>7668 rows × 15 columns</p>\n",
       "</div>"
      ],
      "text/plain": [
       "                                                name rating      genre  year  \\\n",
       "0                                        The Shining      R      Drama  1980   \n",
       "1                                    The Blue Lagoon      R  Adventure  1980   \n",
       "2     Star Wars: Episode V - The Empire Strikes Back     PG     Action  1980   \n",
       "3                                          Airplane!     PG     Comedy  1980   \n",
       "4                                         Caddyshack      R     Comedy  1980   \n",
       "...                                              ...    ...        ...   ...   \n",
       "7663                                    More to Life    NaN      Drama  2020   \n",
       "7664                                     Dream Round    NaN     Comedy  2020   \n",
       "7665                                   Saving Mbango    NaN      Drama  2020   \n",
       "7666                                    It's Just Us    NaN      Drama  2020   \n",
       "7667                                       Tee em el    NaN     Horror  2020   \n",
       "\n",
       "                              released  score      votes         director  \\\n",
       "0        June 13, 1980 (United States)    8.4   927000.0  Stanley Kubrick   \n",
       "1         July 2, 1980 (United States)    5.8    65000.0   Randal Kleiser   \n",
       "2        June 20, 1980 (United States)    8.7  1200000.0   Irvin Kershner   \n",
       "3         July 2, 1980 (United States)    7.7   221000.0     Jim Abrahams   \n",
       "4        July 25, 1980 (United States)    7.3   108000.0     Harold Ramis   \n",
       "...                                ...    ...        ...              ...   \n",
       "7663  October 23, 2020 (United States)    3.1       18.0    Joseph Ebanks   \n",
       "7664  February 7, 2020 (United States)    4.7       36.0     Dusty Dukatz   \n",
       "7665         April 27, 2020 (Cameroon)    5.7       29.0     Nkanya Nkwai   \n",
       "7666   October 1, 2020 (United States)    NaN        NaN    James Randall   \n",
       "7667   August 19, 2020 (United States)    5.7        7.0     Pereko Mosia   \n",
       "\n",
       "                       writer              star         country      budget  \\\n",
       "0                Stephen King    Jack Nicholson  United Kingdom  19000000.0   \n",
       "1     Henry De Vere Stacpoole    Brooke Shields   United States   4500000.0   \n",
       "2              Leigh Brackett       Mark Hamill   United States  18000000.0   \n",
       "3                Jim Abrahams       Robert Hays   United States   3500000.0   \n",
       "4          Brian Doyle-Murray       Chevy Chase   United States   6000000.0   \n",
       "...                       ...               ...             ...         ...   \n",
       "7663            Joseph Ebanks      Shannon Bond   United States      7000.0   \n",
       "7664              Lisa Huston  Michael Saquella   United States         NaN   \n",
       "7665             Lynno Lovert      Onyama Laura   United States     58750.0   \n",
       "7666            James Randall     Christina Roz   United States     15000.0   \n",
       "7667             Pereko Mosia  Siyabonga Mabaso    South Africa         NaN   \n",
       "\n",
       "            gross                    company  runtime  \n",
       "0      46998772.0               Warner Bros.    146.0  \n",
       "1      58853106.0          Columbia Pictures    104.0  \n",
       "2     538375067.0                  Lucasfilm    124.0  \n",
       "3      83453539.0         Paramount Pictures     88.0  \n",
       "4      39846344.0             Orion Pictures     98.0  \n",
       "...           ...                        ...      ...  \n",
       "7663          NaN                        NaN     90.0  \n",
       "7664          NaN  Cactus Blue Entertainment     90.0  \n",
       "7665          NaN           Embi Productions      NaN  \n",
       "7666          NaN                        NaN    120.0  \n",
       "7667          NaN                PK 65 Films    102.0  \n",
       "\n",
       "[7668 rows x 15 columns]"
      ]
     },
     "execution_count": 5,
     "metadata": {},
     "output_type": "execute_result"
    }
   ],
   "source": [
    "# take a look at the data\n",
    "df"
   ]
  },
  {
   "cell_type": "code",
   "execution_count": 6,
   "id": "ae43455a",
   "metadata": {},
   "outputs": [
    {
     "data": {
      "text/html": [
       "<div>\n",
       "<style scoped>\n",
       "    .dataframe tbody tr th:only-of-type {\n",
       "        vertical-align: middle;\n",
       "    }\n",
       "\n",
       "    .dataframe tbody tr th {\n",
       "        vertical-align: top;\n",
       "    }\n",
       "\n",
       "    .dataframe thead th {\n",
       "        text-align: right;\n",
       "    }\n",
       "</style>\n",
       "<table border=\"1\" class=\"dataframe\">\n",
       "  <thead>\n",
       "    <tr style=\"text-align: right;\">\n",
       "      <th></th>\n",
       "      <th>name</th>\n",
       "      <th>rating</th>\n",
       "      <th>genre</th>\n",
       "      <th>year</th>\n",
       "      <th>released</th>\n",
       "      <th>score</th>\n",
       "      <th>votes</th>\n",
       "      <th>director</th>\n",
       "      <th>writer</th>\n",
       "      <th>star</th>\n",
       "      <th>country</th>\n",
       "      <th>budget</th>\n",
       "      <th>gross</th>\n",
       "      <th>company</th>\n",
       "      <th>runtime</th>\n",
       "    </tr>\n",
       "  </thead>\n",
       "  <tbody>\n",
       "    <tr>\n",
       "      <th>2698</th>\n",
       "      <td>The Bridges of Madison County</td>\n",
       "      <td>PG-13</td>\n",
       "      <td>Drama</td>\n",
       "      <td>1995</td>\n",
       "      <td>June 2, 1995 (United States)</td>\n",
       "      <td>7.6</td>\n",
       "      <td>76000.0</td>\n",
       "      <td>Clint Eastwood</td>\n",
       "      <td>Richard LaGravenese</td>\n",
       "      <td>Clint Eastwood</td>\n",
       "      <td>United States</td>\n",
       "      <td>24000000.0</td>\n",
       "      <td>182016617.0</td>\n",
       "      <td>Warner Bros.</td>\n",
       "      <td>135.0</td>\n",
       "    </tr>\n",
       "    <tr>\n",
       "      <th>1472</th>\n",
       "      <td>License to Kill</td>\n",
       "      <td>PG-13</td>\n",
       "      <td>Action</td>\n",
       "      <td>1989</td>\n",
       "      <td>July 14, 1989 (United States)</td>\n",
       "      <td>6.6</td>\n",
       "      <td>97000.0</td>\n",
       "      <td>John Glen</td>\n",
       "      <td>Michael G. Wilson</td>\n",
       "      <td>Timothy Dalton</td>\n",
       "      <td>United Kingdom</td>\n",
       "      <td>32000000.0</td>\n",
       "      <td>156167015.0</td>\n",
       "      <td>Danjaq</td>\n",
       "      <td>133.0</td>\n",
       "    </tr>\n",
       "    <tr>\n",
       "      <th>6389</th>\n",
       "      <td>All Is Lost</td>\n",
       "      <td>PG-13</td>\n",
       "      <td>Action</td>\n",
       "      <td>2013</td>\n",
       "      <td>October 25, 2013 (Canada)</td>\n",
       "      <td>6.9</td>\n",
       "      <td>78000.0</td>\n",
       "      <td>J.C. Chandor</td>\n",
       "      <td>J.C. Chandor</td>\n",
       "      <td>Robert Redford</td>\n",
       "      <td>United States</td>\n",
       "      <td>9000000.0</td>\n",
       "      <td>13627519.0</td>\n",
       "      <td>Roadside Attractions</td>\n",
       "      <td>106.0</td>\n",
       "    </tr>\n",
       "    <tr>\n",
       "      <th>1629</th>\n",
       "      <td>River of Death</td>\n",
       "      <td>R</td>\n",
       "      <td>Action</td>\n",
       "      <td>1989</td>\n",
       "      <td>September 29, 1989 (United States)</td>\n",
       "      <td>4.3</td>\n",
       "      <td>1100.0</td>\n",
       "      <td>Steve Carver</td>\n",
       "      <td>Alistair MacLean</td>\n",
       "      <td>Michael Dudikoff</td>\n",
       "      <td>United States</td>\n",
       "      <td>NaN</td>\n",
       "      <td>NaN</td>\n",
       "      <td>Breton Film Productions</td>\n",
       "      <td>107.0</td>\n",
       "    </tr>\n",
       "    <tr>\n",
       "      <th>3830</th>\n",
       "      <td>The Specials</td>\n",
       "      <td>R</td>\n",
       "      <td>Action</td>\n",
       "      <td>2000</td>\n",
       "      <td>September 18, 2000 (United States)</td>\n",
       "      <td>5.8</td>\n",
       "      <td>2200.0</td>\n",
       "      <td>Craig Mazin</td>\n",
       "      <td>James Gunn</td>\n",
       "      <td>Rob Lowe</td>\n",
       "      <td>United States</td>\n",
       "      <td>1000000.0</td>\n",
       "      <td>13276.0</td>\n",
       "      <td>Brillstein-Grey Entertainment</td>\n",
       "      <td>82.0</td>\n",
       "    </tr>\n",
       "    <tr>\n",
       "      <th>5939</th>\n",
       "      <td>Ghost Rider: Spirit of Vengeance</td>\n",
       "      <td>PG-13</td>\n",
       "      <td>Action</td>\n",
       "      <td>2011</td>\n",
       "      <td>February 17, 2012 (United States)</td>\n",
       "      <td>4.3</td>\n",
       "      <td>113000.0</td>\n",
       "      <td>Mark Neveldine</td>\n",
       "      <td>Scott M. Gimple</td>\n",
       "      <td>Nicolas Cage</td>\n",
       "      <td>United States</td>\n",
       "      <td>57000000.0</td>\n",
       "      <td>132563930.0</td>\n",
       "      <td>Columbia Pictures</td>\n",
       "      <td>96.0</td>\n",
       "    </tr>\n",
       "    <tr>\n",
       "      <th>6229</th>\n",
       "      <td>Like Someone in Love</td>\n",
       "      <td>Not Rated</td>\n",
       "      <td>Drama</td>\n",
       "      <td>2012</td>\n",
       "      <td>September 15, 2012 (Japan)</td>\n",
       "      <td>7.0</td>\n",
       "      <td>11000.0</td>\n",
       "      <td>Abbas Kiarostami</td>\n",
       "      <td>Abbas Kiarostami</td>\n",
       "      <td>Rin Takanashi</td>\n",
       "      <td>Japan</td>\n",
       "      <td>NaN</td>\n",
       "      <td>562878.0</td>\n",
       "      <td>Centre national du cinéma et de l'image animée...</td>\n",
       "      <td>109.0</td>\n",
       "    </tr>\n",
       "    <tr>\n",
       "      <th>5062</th>\n",
       "      <td>Sunshine</td>\n",
       "      <td>R</td>\n",
       "      <td>Sci-Fi</td>\n",
       "      <td>2007</td>\n",
       "      <td>July 27, 2007 (United States)</td>\n",
       "      <td>7.2</td>\n",
       "      <td>238000.0</td>\n",
       "      <td>Danny Boyle</td>\n",
       "      <td>Alex Garland</td>\n",
       "      <td>Cillian Murphy</td>\n",
       "      <td>United Kingdom</td>\n",
       "      <td>NaN</td>\n",
       "      <td>34806812.0</td>\n",
       "      <td>DNA Films</td>\n",
       "      <td>107.0</td>\n",
       "    </tr>\n",
       "    <tr>\n",
       "      <th>6132</th>\n",
       "      <td>Compliance</td>\n",
       "      <td>R</td>\n",
       "      <td>Crime</td>\n",
       "      <td>2012</td>\n",
       "      <td>September 26, 2012 (France)</td>\n",
       "      <td>6.4</td>\n",
       "      <td>33000.0</td>\n",
       "      <td>Craig Zobel</td>\n",
       "      <td>Craig Zobel</td>\n",
       "      <td>Ann Dowd</td>\n",
       "      <td>United States</td>\n",
       "      <td>270000.0</td>\n",
       "      <td>592116.0</td>\n",
       "      <td>Bad Cop Bad Cop Film Productions</td>\n",
       "      <td>90.0</td>\n",
       "    </tr>\n",
       "    <tr>\n",
       "      <th>2949</th>\n",
       "      <td>Everyone Says I Love You</td>\n",
       "      <td>R</td>\n",
       "      <td>Comedy</td>\n",
       "      <td>1996</td>\n",
       "      <td>January 17, 1997 (United States)</td>\n",
       "      <td>6.7</td>\n",
       "      <td>36000.0</td>\n",
       "      <td>Woody Allen</td>\n",
       "      <td>Woody Allen</td>\n",
       "      <td>Woody Allen</td>\n",
       "      <td>United States</td>\n",
       "      <td>20000000.0</td>\n",
       "      <td>9759200.0</td>\n",
       "      <td>Miramax</td>\n",
       "      <td>101.0</td>\n",
       "    </tr>\n",
       "  </tbody>\n",
       "</table>\n",
       "</div>"
      ],
      "text/plain": [
       "                                  name     rating   genre  year  \\\n",
       "2698     The Bridges of Madison County      PG-13   Drama  1995   \n",
       "1472                   License to Kill      PG-13  Action  1989   \n",
       "6389                       All Is Lost      PG-13  Action  2013   \n",
       "1629                    River of Death          R  Action  1989   \n",
       "3830                      The Specials          R  Action  2000   \n",
       "5939  Ghost Rider: Spirit of Vengeance      PG-13  Action  2011   \n",
       "6229              Like Someone in Love  Not Rated   Drama  2012   \n",
       "5062                          Sunshine          R  Sci-Fi  2007   \n",
       "6132                        Compliance          R   Crime  2012   \n",
       "2949          Everyone Says I Love You          R  Comedy  1996   \n",
       "\n",
       "                                released  score     votes          director  \\\n",
       "2698        June 2, 1995 (United States)    7.6   76000.0    Clint Eastwood   \n",
       "1472       July 14, 1989 (United States)    6.6   97000.0         John Glen   \n",
       "6389           October 25, 2013 (Canada)    6.9   78000.0      J.C. Chandor   \n",
       "1629  September 29, 1989 (United States)    4.3    1100.0      Steve Carver   \n",
       "3830  September 18, 2000 (United States)    5.8    2200.0       Craig Mazin   \n",
       "5939   February 17, 2012 (United States)    4.3  113000.0    Mark Neveldine   \n",
       "6229          September 15, 2012 (Japan)    7.0   11000.0  Abbas Kiarostami   \n",
       "5062       July 27, 2007 (United States)    7.2  238000.0       Danny Boyle   \n",
       "6132         September 26, 2012 (France)    6.4   33000.0       Craig Zobel   \n",
       "2949    January 17, 1997 (United States)    6.7   36000.0       Woody Allen   \n",
       "\n",
       "                   writer              star         country      budget  \\\n",
       "2698  Richard LaGravenese    Clint Eastwood   United States  24000000.0   \n",
       "1472    Michael G. Wilson    Timothy Dalton  United Kingdom  32000000.0   \n",
       "6389         J.C. Chandor    Robert Redford   United States   9000000.0   \n",
       "1629     Alistair MacLean  Michael Dudikoff   United States         NaN   \n",
       "3830           James Gunn          Rob Lowe   United States   1000000.0   \n",
       "5939      Scott M. Gimple      Nicolas Cage   United States  57000000.0   \n",
       "6229     Abbas Kiarostami     Rin Takanashi           Japan         NaN   \n",
       "5062         Alex Garland    Cillian Murphy  United Kingdom         NaN   \n",
       "6132          Craig Zobel          Ann Dowd   United States    270000.0   \n",
       "2949          Woody Allen       Woody Allen   United States  20000000.0   \n",
       "\n",
       "            gross                                            company  runtime  \n",
       "2698  182016617.0                                       Warner Bros.    135.0  \n",
       "1472  156167015.0                                             Danjaq    133.0  \n",
       "6389   13627519.0                               Roadside Attractions    106.0  \n",
       "1629          NaN                            Breton Film Productions    107.0  \n",
       "3830      13276.0                      Brillstein-Grey Entertainment     82.0  \n",
       "5939  132563930.0                                  Columbia Pictures     96.0  \n",
       "6229     562878.0  Centre national du cinéma et de l'image animée...    109.0  \n",
       "5062   34806812.0                                          DNA Films    107.0  \n",
       "6132     592116.0                   Bad Cop Bad Cop Film Productions     90.0  \n",
       "2949    9759200.0                                            Miramax    101.0  "
      ]
     },
     "execution_count": 6,
     "metadata": {},
     "output_type": "execute_result"
    }
   ],
   "source": [
    "# take a look at random 10 rows of the data\n",
    "df.sample(10)"
   ]
  },
  {
   "cell_type": "code",
   "execution_count": 7,
   "id": "98998177",
   "metadata": {},
   "outputs": [
    {
     "data": {
      "text/plain": [
       "Index(['name', 'rating', 'genre', 'year', 'released', 'score', 'votes',\n",
       "       'director', 'writer', 'star', 'country', 'budget', 'gross', 'company',\n",
       "       'runtime'],\n",
       "      dtype='object')"
      ]
     },
     "execution_count": 7,
     "metadata": {},
     "output_type": "execute_result"
    }
   ],
   "source": [
    "# check the column headings \n",
    "df.columns"
   ]
  },
  {
   "cell_type": "code",
   "execution_count": 8,
   "id": "23a19105",
   "metadata": {},
   "outputs": [
    {
     "data": {
      "text/html": [
       "<div>\n",
       "<style scoped>\n",
       "    .dataframe tbody tr th:only-of-type {\n",
       "        vertical-align: middle;\n",
       "    }\n",
       "\n",
       "    .dataframe tbody tr th {\n",
       "        vertical-align: top;\n",
       "    }\n",
       "\n",
       "    .dataframe thead th {\n",
       "        text-align: right;\n",
       "    }\n",
       "</style>\n",
       "<table border=\"1\" class=\"dataframe\">\n",
       "  <thead>\n",
       "    <tr style=\"text-align: right;\">\n",
       "      <th></th>\n",
       "      <th>year</th>\n",
       "      <th>score</th>\n",
       "      <th>votes</th>\n",
       "      <th>budget</th>\n",
       "      <th>gross</th>\n",
       "      <th>runtime</th>\n",
       "    </tr>\n",
       "  </thead>\n",
       "  <tbody>\n",
       "    <tr>\n",
       "      <th>count</th>\n",
       "      <td>7668.000000</td>\n",
       "      <td>7665.000000</td>\n",
       "      <td>7.665000e+03</td>\n",
       "      <td>5.497000e+03</td>\n",
       "      <td>7.479000e+03</td>\n",
       "      <td>7664.000000</td>\n",
       "    </tr>\n",
       "    <tr>\n",
       "      <th>mean</th>\n",
       "      <td>2000.405451</td>\n",
       "      <td>6.390411</td>\n",
       "      <td>8.810850e+04</td>\n",
       "      <td>3.558988e+07</td>\n",
       "      <td>7.850054e+07</td>\n",
       "      <td>107.261613</td>\n",
       "    </tr>\n",
       "    <tr>\n",
       "      <th>std</th>\n",
       "      <td>11.153508</td>\n",
       "      <td>0.968842</td>\n",
       "      <td>1.633238e+05</td>\n",
       "      <td>4.145730e+07</td>\n",
       "      <td>1.657251e+08</td>\n",
       "      <td>18.581247</td>\n",
       "    </tr>\n",
       "    <tr>\n",
       "      <th>min</th>\n",
       "      <td>1980.000000</td>\n",
       "      <td>1.900000</td>\n",
       "      <td>7.000000e+00</td>\n",
       "      <td>3.000000e+03</td>\n",
       "      <td>3.090000e+02</td>\n",
       "      <td>55.000000</td>\n",
       "    </tr>\n",
       "    <tr>\n",
       "      <th>25%</th>\n",
       "      <td>1991.000000</td>\n",
       "      <td>5.800000</td>\n",
       "      <td>9.100000e+03</td>\n",
       "      <td>1.000000e+07</td>\n",
       "      <td>4.532056e+06</td>\n",
       "      <td>95.000000</td>\n",
       "    </tr>\n",
       "    <tr>\n",
       "      <th>50%</th>\n",
       "      <td>2000.000000</td>\n",
       "      <td>6.500000</td>\n",
       "      <td>3.300000e+04</td>\n",
       "      <td>2.050000e+07</td>\n",
       "      <td>2.020576e+07</td>\n",
       "      <td>104.000000</td>\n",
       "    </tr>\n",
       "    <tr>\n",
       "      <th>75%</th>\n",
       "      <td>2010.000000</td>\n",
       "      <td>7.100000</td>\n",
       "      <td>9.300000e+04</td>\n",
       "      <td>4.500000e+07</td>\n",
       "      <td>7.601669e+07</td>\n",
       "      <td>116.000000</td>\n",
       "    </tr>\n",
       "    <tr>\n",
       "      <th>max</th>\n",
       "      <td>2020.000000</td>\n",
       "      <td>9.300000</td>\n",
       "      <td>2.400000e+06</td>\n",
       "      <td>3.560000e+08</td>\n",
       "      <td>2.847246e+09</td>\n",
       "      <td>366.000000</td>\n",
       "    </tr>\n",
       "  </tbody>\n",
       "</table>\n",
       "</div>"
      ],
      "text/plain": [
       "              year        score         votes        budget         gross  \\\n",
       "count  7668.000000  7665.000000  7.665000e+03  5.497000e+03  7.479000e+03   \n",
       "mean   2000.405451     6.390411  8.810850e+04  3.558988e+07  7.850054e+07   \n",
       "std      11.153508     0.968842  1.633238e+05  4.145730e+07  1.657251e+08   \n",
       "min    1980.000000     1.900000  7.000000e+00  3.000000e+03  3.090000e+02   \n",
       "25%    1991.000000     5.800000  9.100000e+03  1.000000e+07  4.532056e+06   \n",
       "50%    2000.000000     6.500000  3.300000e+04  2.050000e+07  2.020576e+07   \n",
       "75%    2010.000000     7.100000  9.300000e+04  4.500000e+07  7.601669e+07   \n",
       "max    2020.000000     9.300000  2.400000e+06  3.560000e+08  2.847246e+09   \n",
       "\n",
       "           runtime  \n",
       "count  7664.000000  \n",
       "mean    107.261613  \n",
       "std      18.581247  \n",
       "min      55.000000  \n",
       "25%      95.000000  \n",
       "50%     104.000000  \n",
       "75%     116.000000  \n",
       "max     366.000000  "
      ]
     },
     "execution_count": 8,
     "metadata": {},
     "output_type": "execute_result"
    }
   ],
   "source": [
    "# get the statistical summary of the data\n",
    "df.describe()"
   ]
  },
  {
   "cell_type": "code",
   "execution_count": 9,
   "id": "c7c4483b",
   "metadata": {},
   "outputs": [
    {
     "data": {
      "text/plain": [
       "name         object\n",
       "rating       object\n",
       "genre        object\n",
       "year          int64\n",
       "released     object\n",
       "score       float64\n",
       "votes       float64\n",
       "director     object\n",
       "writer       object\n",
       "star         object\n",
       "country      object\n",
       "budget      float64\n",
       "gross       float64\n",
       "company      object\n",
       "runtime     float64\n",
       "dtype: object"
      ]
     },
     "execution_count": 9,
     "metadata": {},
     "output_type": "execute_result"
    }
   ],
   "source": [
    "# check data types\n",
    "df.dtypes"
   ]
  },
  {
   "cell_type": "code",
   "execution_count": 10,
   "id": "a6dacdb7",
   "metadata": {},
   "outputs": [
    {
     "data": {
      "text/plain": [
       "name           0\n",
       "rating        77\n",
       "genre          0\n",
       "year           0\n",
       "released       2\n",
       "score          3\n",
       "votes          3\n",
       "director       0\n",
       "writer         3\n",
       "star           1\n",
       "country        3\n",
       "budget      2171\n",
       "gross        189\n",
       "company       17\n",
       "runtime        4\n",
       "dtype: int64"
      ]
     },
     "execution_count": 10,
     "metadata": {},
     "output_type": "execute_result"
    }
   ],
   "source": [
    "# to check for missing values in the data\n",
    "df.isnull().sum()"
   ]
  },
  {
   "cell_type": "markdown",
   "id": "8d1ae1ef",
   "metadata": {},
   "source": [
    "There are missing values in some of the columns like rating, budget ,gross, company and runtime which I will be deleting."
   ]
  },
  {
   "cell_type": "code",
   "execution_count": 11,
   "id": "539c6726",
   "metadata": {},
   "outputs": [
    {
     "data": {
      "text/plain": [
       "0"
      ]
     },
     "execution_count": 11,
     "metadata": {},
     "output_type": "execute_result"
    }
   ],
   "source": [
    "# to check for duplicates in the data\n",
    "df.duplicated().sum()"
   ]
  },
  {
   "cell_type": "markdown",
   "id": "1a3cbfe9",
   "metadata": {},
   "source": [
    "no duplicate values found"
   ]
  },
  {
   "cell_type": "markdown",
   "id": "81c7b49c",
   "metadata": {},
   "source": [
    "## Assesing Text Columns"
   ]
  },
  {
   "cell_type": "code",
   "execution_count": 12,
   "id": "daf5cef2",
   "metadata": {},
   "outputs": [
    {
     "data": {
      "text/plain": [
       "0                                          The Shining\n",
       "1                                      The Blue Lagoon\n",
       "2       Star Wars: Episode V - The Empire Strikes Back\n",
       "3                                            Airplane!\n",
       "4                                           Caddyshack\n",
       "                             ...                      \n",
       "7663                                      More to Life\n",
       "7664                                       Dream Round\n",
       "7665                                     Saving Mbango\n",
       "7666                                      It's Just Us\n",
       "7667                                         Tee em el\n",
       "Name: name, Length: 7668, dtype: object"
      ]
     },
     "execution_count": 12,
     "metadata": {},
     "output_type": "execute_result"
    }
   ],
   "source": [
    "# to check the name column \n",
    "df.name"
   ]
  },
  {
   "cell_type": "markdown",
   "id": "8af94513",
   "metadata": {},
   "source": [
    "There is no issue in this column, the words are properly formatted "
   ]
  },
  {
   "cell_type": "code",
   "execution_count": 13,
   "id": "02959c8d",
   "metadata": {},
   "outputs": [
    {
     "data": {
      "text/plain": [
       "array(['R', 'PG', 'G', nan, 'Not Rated', 'NC-17', 'Approved', 'TV-PG',\n",
       "       'PG-13', 'Unrated', 'X', 'TV-MA', 'TV-14'], dtype=object)"
      ]
     },
     "execution_count": 13,
     "metadata": {},
     "output_type": "execute_result"
    }
   ],
   "source": [
    "# to check the movies Tv ratings\n",
    "df.rating.unique()"
   ]
  },
  {
   "cell_type": "code",
   "execution_count": 14,
   "id": "beff3d63",
   "metadata": {},
   "outputs": [
    {
     "data": {
      "text/plain": [
       "array(['Drama', 'Adventure', 'Action', 'Comedy', 'Horror', 'Biography',\n",
       "       'Crime', 'Fantasy', 'Family', 'Sci-Fi', 'Animation', 'Romance',\n",
       "       'Music', 'Western', 'Thriller', 'History', 'Mystery', 'Sport',\n",
       "       'Musical'], dtype=object)"
      ]
     },
     "execution_count": 14,
     "metadata": {},
     "output_type": "execute_result"
    }
   ],
   "source": [
    "# to check the genres\n",
    "df.genre.unique()"
   ]
  },
  {
   "cell_type": "code",
   "execution_count": 15,
   "id": "d66264d7",
   "metadata": {},
   "outputs": [
    {
     "data": {
      "text/plain": [
       "array([1980, 1981, 1982, 1983, 1984, 1985, 1986, 1987, 1988, 1989, 1990,\n",
       "       1991, 1992, 1993, 1994, 1995, 1996, 1997, 1998, 1999, 2000, 2001,\n",
       "       2002, 2003, 2004, 2005, 2006, 2007, 2008, 2009, 2010, 2011, 2012,\n",
       "       2013, 2014, 2015, 2016, 2017, 2018, 2019, 2020], dtype=int64)"
      ]
     },
     "execution_count": 15,
     "metadata": {},
     "output_type": "execute_result"
    }
   ],
   "source": [
    "df.year.unique()"
   ]
  },
  {
   "cell_type": "code",
   "execution_count": 16,
   "id": "999556d9",
   "metadata": {},
   "outputs": [
    {
     "data": {
      "text/plain": [
       "0          June 13, 1980 (United States)\n",
       "1           July 2, 1980 (United States)\n",
       "2          June 20, 1980 (United States)\n",
       "3           July 2, 1980 (United States)\n",
       "4          July 25, 1980 (United States)\n",
       "                      ...               \n",
       "7663    October 23, 2020 (United States)\n",
       "7664    February 7, 2020 (United States)\n",
       "7665           April 27, 2020 (Cameroon)\n",
       "7666     October 1, 2020 (United States)\n",
       "7667     August 19, 2020 (United States)\n",
       "Name: released, Length: 7668, dtype: object"
      ]
     },
     "execution_count": 16,
     "metadata": {},
     "output_type": "execute_result"
    }
   ],
   "source": [
    "df.released"
   ]
  },
  {
   "cell_type": "markdown",
   "id": "735a1dca",
   "metadata": {},
   "source": [
    "The script shows that the released column contains the release date and the country of release. This column will be splitted to have the release date column and country column "
   ]
  },
  {
   "cell_type": "code",
   "execution_count": 17,
   "id": "235d9e0e",
   "metadata": {},
   "outputs": [
    {
     "data": {
      "text/plain": [
       "0       Stanley Kubrick\n",
       "1        Randal Kleiser\n",
       "2        Irvin Kershner\n",
       "3          Jim Abrahams\n",
       "4          Harold Ramis\n",
       "             ...       \n",
       "7663      Joseph Ebanks\n",
       "7664       Dusty Dukatz\n",
       "7665       Nkanya Nkwai\n",
       "7666      James Randall\n",
       "7667       Pereko Mosia\n",
       "Name: director, Length: 7668, dtype: object"
      ]
     },
     "execution_count": 17,
     "metadata": {},
     "output_type": "execute_result"
    }
   ],
   "source": [
    "df.director"
   ]
  },
  {
   "cell_type": "code",
   "execution_count": 18,
   "id": "a3410b26",
   "metadata": {},
   "outputs": [
    {
     "data": {
      "text/plain": [
       "0                  Stephen King\n",
       "1       Henry De Vere Stacpoole\n",
       "2                Leigh Brackett\n",
       "3                  Jim Abrahams\n",
       "4            Brian Doyle-Murray\n",
       "                 ...           \n",
       "7663              Joseph Ebanks\n",
       "7664                Lisa Huston\n",
       "7665               Lynno Lovert\n",
       "7666              James Randall\n",
       "7667               Pereko Mosia\n",
       "Name: writer, Length: 7668, dtype: object"
      ]
     },
     "execution_count": 18,
     "metadata": {},
     "output_type": "execute_result"
    }
   ],
   "source": [
    "df.writer"
   ]
  },
  {
   "cell_type": "code",
   "execution_count": 19,
   "id": "a2012107",
   "metadata": {},
   "outputs": [
    {
     "data": {
      "text/plain": [
       "0         Jack Nicholson\n",
       "1         Brooke Shields\n",
       "2            Mark Hamill\n",
       "3            Robert Hays\n",
       "4            Chevy Chase\n",
       "              ...       \n",
       "7663        Shannon Bond\n",
       "7664    Michael Saquella\n",
       "7665        Onyama Laura\n",
       "7666       Christina Roz\n",
       "7667    Siyabonga Mabaso\n",
       "Name: star, Length: 7668, dtype: object"
      ]
     },
     "execution_count": 19,
     "metadata": {},
     "output_type": "execute_result"
    }
   ],
   "source": [
    "df.star"
   ]
  },
  {
   "cell_type": "code",
   "execution_count": 20,
   "id": "02809e71",
   "metadata": {},
   "outputs": [
    {
     "data": {
      "text/plain": [
       "array(['United Kingdom', 'United States', 'South Africa', 'West Germany',\n",
       "       'Canada', 'Australia', 'Libya', 'Italy', 'Soviet Union', 'France',\n",
       "       'Hong Kong', 'South Korea', 'Sweden', 'Spain', 'Mexico',\n",
       "       'Switzerland', 'Netherlands', 'New Zealand', 'Philippines',\n",
       "       'Israel', 'Japan', 'Hungary', 'Brazil', 'Yugoslavia', 'Argentina',\n",
       "       'Taiwan', 'Ireland', 'Denmark', 'Germany', 'Iran', 'China',\n",
       "       'Belgium', 'Austria', 'Portugal', 'Vietnam',\n",
       "       'Republic of Macedonia', 'Russia',\n",
       "       'Federal Republic of Yugoslavia', 'Greece', 'Czech Republic',\n",
       "       'Norway', 'India', 'Jamaica', 'Aruba', 'Thailand', 'Colombia',\n",
       "       'Romania', nan, 'United Arab Emirates', 'Indonesia', 'Turkey',\n",
       "       'Serbia', 'Poland', 'Kenya', 'Finland', 'Iceland', 'Chile',\n",
       "       'Panama', 'Malta', 'Lebanon'], dtype=object)"
      ]
     },
     "execution_count": 20,
     "metadata": {},
     "output_type": "execute_result"
    }
   ],
   "source": [
    "df.country.unique()"
   ]
  },
  {
   "cell_type": "code",
   "execution_count": 21,
   "id": "ddc7f5d7",
   "metadata": {},
   "outputs": [
    {
     "data": {
      "text/plain": [
       "array(['Warner Bros.', 'Columbia Pictures', 'Lucasfilm', ...,\n",
       "       'Dow Jazz Films', 'Embi Productions', 'PK 65 Films'], dtype=object)"
      ]
     },
     "execution_count": 21,
     "metadata": {},
     "output_type": "execute_result"
    }
   ],
   "source": [
    "df.company.unique()"
   ]
  },
  {
   "cell_type": "markdown",
   "id": "feef4a8b",
   "metadata": {},
   "source": [
    "After assessing the data some discrepancies were noticed, they include \n",
    "1. The column headings beiing in lowercase isn't a discrepancy but personally I prefer to work with titlecase so I will be changing  it\n",
    "2. presence of missing values which will be deleted \n",
    "3. wrong  datatypes in Budget, gross, votes and runtime columns which will be changed to their correct datatypes\n",
    "4. Released column which contains two variables data will be splitted to get the released date"
   ]
  },
  {
   "cell_type": "markdown",
   "id": "a54195b5",
   "metadata": {},
   "source": [
    "<a id='data-cleaning'></a>\n",
    "# DATA CLEANING "
   ]
  },
  {
   "cell_type": "markdown",
   "id": "11a85188",
   "metadata": {},
   "source": [
    "Time to get rid of the data issues!"
   ]
  },
  {
   "cell_type": "code",
   "execution_count": 22,
   "id": "7522cf54",
   "metadata": {},
   "outputs": [],
   "source": [
    "# to change the columns lettercase\n",
    "df.columns=df.columns.str.title()"
   ]
  },
  {
   "cell_type": "code",
   "execution_count": 23,
   "id": "d579b749",
   "metadata": {},
   "outputs": [
    {
     "data": {
      "text/plain": [
       "Index(['Name', 'Rating', 'Genre', 'Year', 'Released', 'Score', 'Votes',\n",
       "       'Director', 'Writer', 'Star', 'Country', 'Budget', 'Gross', 'Company',\n",
       "       'Runtime'],\n",
       "      dtype='object')"
      ]
     },
     "execution_count": 23,
     "metadata": {},
     "output_type": "execute_result"
    }
   ],
   "source": [
    "# to confirm change in columns lettercase\n",
    "df.columns"
   ]
  },
  {
   "cell_type": "code",
   "execution_count": 24,
   "id": "2ffca356",
   "metadata": {},
   "outputs": [],
   "source": [
    "# drop missing values \n",
    "df.dropna(inplace=True)"
   ]
  },
  {
   "cell_type": "code",
   "execution_count": 25,
   "id": "6df1fcbc",
   "metadata": {},
   "outputs": [
    {
     "data": {
      "text/plain": [
       "Name        0\n",
       "Rating      0\n",
       "Genre       0\n",
       "Year        0\n",
       "Released    0\n",
       "Score       0\n",
       "Votes       0\n",
       "Director    0\n",
       "Writer      0\n",
       "Star        0\n",
       "Country     0\n",
       "Budget      0\n",
       "Gross       0\n",
       "Company     0\n",
       "Runtime     0\n",
       "dtype: int64"
      ]
     },
     "execution_count": 25,
     "metadata": {},
     "output_type": "execute_result"
    }
   ],
   "source": [
    "# to confirm all missing values have been dropped \n",
    "df.isnull().sum()"
   ]
  },
  {
   "cell_type": "code",
   "execution_count": 26,
   "id": "a83516e7",
   "metadata": {},
   "outputs": [],
   "source": [
    "# change datatype \n",
    "df['Budget'] = df['Budget'].astype('int64')\n",
    "df['Gross'] = df['Gross'].astype('int64')\n",
    "df['Votes'] = df['Votes'].astype('int64')\n",
    "df['Runtime'] = df['Runtime'].astype('int64')"
   ]
  },
  {
   "cell_type": "code",
   "execution_count": 27,
   "id": "8fd21a86",
   "metadata": {},
   "outputs": [
    {
     "data": {
      "text/plain": [
       "Name         object\n",
       "Rating       object\n",
       "Genre        object\n",
       "Year          int64\n",
       "Released     object\n",
       "Score       float64\n",
       "Votes         int64\n",
       "Director     object\n",
       "Writer       object\n",
       "Star         object\n",
       "Country      object\n",
       "Budget        int64\n",
       "Gross         int64\n",
       "Company      object\n",
       "Runtime       int64\n",
       "dtype: object"
      ]
     },
     "execution_count": 27,
     "metadata": {},
     "output_type": "execute_result"
    }
   ],
   "source": [
    "# to confirm if data types have changed\n",
    "df.dtypes"
   ]
  },
  {
   "cell_type": "code",
   "execution_count": 28,
   "id": "cf544d60",
   "metadata": {},
   "outputs": [
    {
     "data": {
      "text/plain": [
       "0      1980-06-13\n",
       "1      1980-07-02\n",
       "2      1980-06-20\n",
       "3      1980-07-02\n",
       "4      1980-07-25\n",
       "          ...    \n",
       "7648   2020-01-17\n",
       "7649   2020-02-14\n",
       "7650   2020-01-17\n",
       "7651   2020-02-21\n",
       "7652   2020-08-28\n",
       "Name: Released_Date, Length: 5421, dtype: datetime64[ns]"
      ]
     },
     "execution_count": 28,
     "metadata": {},
     "output_type": "execute_result"
    }
   ],
   "source": [
    "# to extract date column  from released column \n",
    "df['Released_Date'] = df['Released'].str.extract(r'(\\w+ \\d+, \\d{4})')\n",
    "\n",
    "# to change extracted column to datetime type \n",
    "df['Released_Date']=pd.to_datetime(df['Released_Date'])\n",
    "df['Released_Date']"
   ]
  },
  {
   "cell_type": "markdown",
   "id": "a5ee9fa4",
   "metadata": {},
   "source": [
    "<a id='exploratory-analysis'></a>\n",
    "# EXPLORATORY ANALYSIS "
   ]
  },
  {
   "cell_type": "markdown",
   "id": "6abbfabf",
   "metadata": {},
   "source": [
    "Now that I have cleaned the data, Let's open the scene to exploration which involves Computing statistics and creating visualizations with the goal of addressing thequestions that I posed in the Introduction section. I would compute the relevant statistics throughout the analysis when an inference is made about the data"
   ]
  },
  {
   "cell_type": "markdown",
   "id": "f28c9cfc",
   "metadata": {},
   "source": [
    "### 1. TOP DIRECTOR BASED ON MOVIE RATINGS"
   ]
  },
  {
   "cell_type": "code",
   "execution_count": 29,
   "id": "17eb227b",
   "metadata": {},
   "outputs": [
    {
     "data": {
      "text/html": [
       "<div>\n",
       "<style scoped>\n",
       "    .dataframe tbody tr th:only-of-type {\n",
       "        vertical-align: middle;\n",
       "    }\n",
       "\n",
       "    .dataframe tbody tr th {\n",
       "        vertical-align: top;\n",
       "    }\n",
       "\n",
       "    .dataframe thead th {\n",
       "        text-align: right;\n",
       "    }\n",
       "</style>\n",
       "<table border=\"1\" class=\"dataframe\">\n",
       "  <thead>\n",
       "    <tr style=\"text-align: right;\">\n",
       "      <th></th>\n",
       "      <th>Score</th>\n",
       "    </tr>\n",
       "    <tr>\n",
       "      <th>Director</th>\n",
       "      <th></th>\n",
       "    </tr>\n",
       "  </thead>\n",
       "  <tbody>\n",
       "    <tr>\n",
       "      <th>Roberto Benigni</th>\n",
       "      <td>8.6</td>\n",
       "    </tr>\n",
       "    <tr>\n",
       "      <th>Tony Kaye</th>\n",
       "      <td>8.5</td>\n",
       "    </tr>\n",
       "    <tr>\n",
       "      <th>Nadine Labaki</th>\n",
       "      <td>8.4</td>\n",
       "    </tr>\n",
       "    <tr>\n",
       "      <th>Bob Persichetti</th>\n",
       "      <td>8.4</td>\n",
       "    </tr>\n",
       "    <tr>\n",
       "      <th>Sergio Leone</th>\n",
       "      <td>8.4</td>\n",
       "    </tr>\n",
       "  </tbody>\n",
       "</table>\n",
       "</div>"
      ],
      "text/plain": [
       "                 Score\n",
       "Director              \n",
       "Roberto Benigni    8.6\n",
       "Tony Kaye          8.5\n",
       "Nadine Labaki      8.4\n",
       "Bob Persichetti    8.4\n",
       "Sergio Leone       8.4"
      ]
     },
     "execution_count": 29,
     "metadata": {},
     "output_type": "execute_result"
    }
   ],
   "source": [
    "# to get the directors with highest ratings \n",
    "average_ratings = df[['Director', 'Score']].groupby('Director').mean()\n",
    "sorted_average_ratings =average_ratings.sort_values(by='Score', ascending=False)\n",
    "top_director_average_ratings= sorted_average_ratings.head()\n",
    "top_director_average_ratings"
   ]
  },
  {
   "cell_type": "code",
   "execution_count": 30,
   "id": "ec88876b",
   "metadata": {},
   "outputs": [
    {
     "data": {
      "image/png": "[encoded data removed]",
      "text/plain": [
       "<Figure size 1152x432 with 1 Axes>"
      ]
     },
     "metadata": {},
     "output_type": "display_data"
    }
   ],
   "source": [
    "# plot the barchart \n",
    "barplot=sns.barplot(x=top_director_average_ratings.index, y=top_director_average_ratings['Score'], color='blue')\n",
    "\n",
    "# Adding annotations\n",
    "for index, value in enumerate(top_director_average_ratings['Score']):\n",
    "    barplot.text(index, value, f'{value:.2f}', ha='center', va='bottom', fontsize=15, color='black')\n",
    "\n",
    "# Adding labels and title\n",
    "plt.xlabel('Director', size=15, labelpad=15)\n",
    "plt.ylabel('Average ratings', size=15, labelpad=15)\n",
    "plt.title('Top director by Average ratings', fontsize=15, pad=15);\n"
   ]
  },
  {
   "cell_type": "markdown",
   "id": "4005671c",
   "metadata": {},
   "source": [
    "This shows that Robert Benigni, Tony Kaye, Nadine Labaki, Bob Persichetti, Sergio Leone are the directors needed to weave narratives that resonate with the audience. The movie industry is studded with brilliant directors as their ratings aren't far apart"
   ]
  },
  {
   "cell_type": "markdown",
   "id": "8fcde1b8",
   "metadata": {},
   "source": [
    "### 2. TOP GENRE BASED ON REVENUE GENERATED"
   ]
  },
  {
   "cell_type": "code",
   "execution_count": 31,
   "id": "7daa7675",
   "metadata": {},
   "outputs": [
    {
     "data": {
      "text/html": [
       "<div>\n",
       "<style scoped>\n",
       "    .dataframe tbody tr th:only-of-type {\n",
       "        vertical-align: middle;\n",
       "    }\n",
       "\n",
       "    .dataframe tbody tr th {\n",
       "        vertical-align: top;\n",
       "    }\n",
       "\n",
       "    .dataframe thead th {\n",
       "        text-align: right;\n",
       "    }\n",
       "</style>\n",
       "<table border=\"1\" class=\"dataframe\">\n",
       "  <thead>\n",
       "    <tr style=\"text-align: right;\">\n",
       "      <th></th>\n",
       "      <th>Gross</th>\n",
       "    </tr>\n",
       "    <tr>\n",
       "      <th>Genre</th>\n",
       "      <th></th>\n",
       "    </tr>\n",
       "  </thead>\n",
       "  <tbody>\n",
       "    <tr>\n",
       "      <th>Family</th>\n",
       "      <td>5.185831e+08</td>\n",
       "    </tr>\n",
       "    <tr>\n",
       "      <th>Animation</th>\n",
       "      <td>2.811044e+08</td>\n",
       "    </tr>\n",
       "    <tr>\n",
       "      <th>Action</th>\n",
       "      <td>1.680232e+08</td>\n",
       "    </tr>\n",
       "    <tr>\n",
       "      <th>Adventure</th>\n",
       "      <td>1.332682e+08</td>\n",
       "    </tr>\n",
       "    <tr>\n",
       "      <th>Mystery</th>\n",
       "      <td>1.178877e+08</td>\n",
       "    </tr>\n",
       "  </tbody>\n",
       "</table>\n",
       "</div>"
      ],
      "text/plain": [
       "                  Gross\n",
       "Genre                  \n",
       "Family     5.185831e+08\n",
       "Animation  2.811044e+08\n",
       "Action     1.680232e+08\n",
       "Adventure  1.332682e+08\n",
       "Mystery    1.178877e+08"
      ]
     },
     "execution_count": 31,
     "metadata": {},
     "output_type": "execute_result"
    }
   ],
   "source": [
    "# to get the genres that generated the most money\n",
    "average_revenue=df[['Genre', 'Gross']].groupby('Genre').mean()\n",
    "sorted_average_revenue=average_revenue.sort_values('Gross', ascending=False)\n",
    "top_genre_revenue =sorted_average_revenue.head()\n",
    "top_genre_revenue\n"
   ]
  },
  {
   "cell_type": "code",
   "execution_count": 32,
   "id": "2c585afa",
   "metadata": {},
   "outputs": [
    {
     "data": {
      "image/png": "[encoded data removed]",
      "text/plain": [
       "<Figure size 1152x432 with 1 Axes>"
      ]
     },
     "metadata": {},
     "output_type": "display_data"
    }
   ],
   "source": [
    "# plot barchart \n",
    "barplot=sns.barplot(x=top_genre_revenue.index, y=top_genre_revenue['Gross'], color='blue')\n",
    "\n",
    "# Adding annotations\n",
    "for index, value in enumerate(top_genre_revenue['Gross']):\n",
    "    barplot.text(index, value, f'{value/1e6:.2f}', ha='center', va='bottom', fontsize=15, color='black')\n",
    "\n",
    "# Adding labels and title\n",
    "plt.xlabel('Genre', size=15, labelpad=15)\n",
    "plt.ylabel('Average Gross Revenue In Millions', size=15, labelpad=15)\n",
    "plt.title('Top Genre by Average Gross Revenue', fontsize=15, pad=15);\n"
   ]
  },
  {
   "cell_type": "markdown",
   "id": "029845c2",
   "metadata": {},
   "source": [
    "Family movies are the best bet for financial success which generated over 500 million on average, followed by Animation, Action, Adventure and Mystery genre "
   ]
  },
  {
   "cell_type": "markdown",
   "id": "e283ea58",
   "metadata": {},
   "source": [
    "### 3. MOST PRODUCED GENRE "
   ]
  },
  {
   "cell_type": "code",
   "execution_count": 33,
   "id": "adb8421f",
   "metadata": {},
   "outputs": [
    {
     "data": {
      "text/plain": [
       "Comedy       1496\n",
       "Action       1415\n",
       "Drama         863\n",
       "Crime         399\n",
       "Adventure     327\n",
       "Biography     311\n",
       "Animation     277\n",
       "Horror        251\n",
       "Fantasy        41\n",
       "Mystery        17\n",
       "Thriller        7\n",
       "Sci-Fi          6\n",
       "Romance         5\n",
       "Family          4\n",
       "Western         2\n",
       "Name: Genre, dtype: int64"
      ]
     },
     "execution_count": 33,
     "metadata": {},
     "output_type": "execute_result"
    }
   ],
   "source": [
    "genre_counts = df['Genre'].value_counts()\n",
    "genre_counts"
   ]
  },
  {
   "cell_type": "code",
   "execution_count": 34,
   "id": "5005b598",
   "metadata": {},
   "outputs": [
    {
     "data": {
      "image/png": "[encoded data removed]",
      "text/plain": [
       "<Figure size 1152x432 with 1 Axes>"
      ]
     },
     "metadata": {},
     "output_type": "display_data"
    }
   ],
   "source": [
    "sns.countplot(x=df['Genre'], order=df['Genre'].value_counts().index, color='blue')\n",
    "\n",
    "# Adding labels and title\n",
    "plt.xlabel('Genre', size=15, labelpad=15)\n",
    "plt.ylabel('Count', size=15, labelpad=15)\n",
    "plt.title('Count of Movies by Genre', fontsize=15, pad=15)\n",
    "plt.show()\n"
   ]
  },
  {
   "cell_type": "markdown",
   "id": "79fe6467",
   "metadata": {},
   "source": [
    "### 4. COUNTRY THAT PRODUCED THE MOST MOVIE "
   ]
  },
  {
   "cell_type": "code",
   "execution_count": 35,
   "id": "ade7a2b3",
   "metadata": {},
   "outputs": [
    {
     "data": {
      "text/plain": [
       "United States     4319\n",
       "United Kingdom     492\n",
       "Canada             111\n",
       "France             105\n",
       "Germany             82\n",
       "Australia           42\n",
       "Name: Country, dtype: int64"
      ]
     },
     "execution_count": 35,
     "metadata": {},
     "output_type": "execute_result"
    }
   ],
   "source": [
    "x=df.Country.value_counts().head(6)\n",
    "x"
   ]
  },
  {
   "cell_type": "code",
   "execution_count": 36,
   "id": "8985281b",
   "metadata": {},
   "outputs": [
    {
     "data": {
      "image/png": "[encoded data removed]",
      "text/plain": [
       "<Figure size 1152x432 with 1 Axes>"
      ]
     },
     "metadata": {},
     "output_type": "display_data"
    }
   ],
   "source": [
    "#plot chart\n",
    "countplot=sns.countplot(x=df['Country'], order=df['Country'].value_counts().head(6).index, color='blue')\n",
    "\n",
    "# Adding labels and title\n",
    "plt.xlabel('Country', size=15, labelpad=15)\n",
    "plt.ylabel('Count', size=15, labelpad=15)\n",
    "plt.title('Country with highest no of movie production', fontsize=15, pad=15);"
   ]
  },
  {
   "cell_type": "markdown",
   "id": "b19efaa6",
   "metadata": {},
   "source": [
    "The united states is the centre of movie production, having produced over 4000 movies about 50% of total movies produced over the years"
   ]
  },
  {
   "cell_type": "markdown",
   "id": "4f653f59",
   "metadata": {},
   "source": [
    "### 5. TRENDS IN MOVIE PRODUCTION"
   ]
  },
  {
   "cell_type": "code",
   "execution_count": 37,
   "id": "b2c83075",
   "metadata": {},
   "outputs": [
    {
     "data": {
      "text/plain": [
       "1980     40\n",
       "1981     63\n",
       "1982     71\n",
       "1983     83\n",
       "1984     88\n",
       "1985     95\n",
       "1986     99\n",
       "1987    104\n",
       "1988    130\n",
       "1989    115\n",
       "1990    111\n",
       "1991    113\n",
       "1992    131\n",
       "1993    140\n",
       "1994    128\n",
       "1995    138\n",
       "1996    144\n",
       "1997    149\n",
       "1998    148\n",
       "1999    162\n",
       "2000    162\n",
       "2001    164\n",
       "2002    173\n",
       "2003    159\n",
       "2004    158\n",
       "2005    170\n",
       "2006    163\n",
       "2007    157\n",
       "2008    171\n",
       "2009    171\n",
       "2010    164\n",
       "2011    160\n",
       "2012    162\n",
       "2013    161\n",
       "2014    163\n",
       "2015    156\n",
       "2016    158\n",
       "2017    133\n",
       "2018    143\n",
       "2019    113\n",
       "2020      8\n",
       "Name: Year, dtype: int64"
      ]
     },
     "execution_count": 37,
     "metadata": {},
     "output_type": "execute_result"
    }
   ],
   "source": [
    "movie_counts_per_year = df['Year'].value_counts().sort_index()\n",
    "movie_counts_per_year"
   ]
  },
  {
   "cell_type": "code",
   "execution_count": 38,
   "id": "61168cb9",
   "metadata": {},
   "outputs": [
    {
     "data": {
      "image/png": "[encoded data removed]",
      "text/plain": [
       "<Figure size 1152x432 with 1 Axes>"
      ]
     },
     "metadata": {},
     "output_type": "display_data"
    }
   ],
   "source": [
    "# plot lineplot\n",
    "sns.lineplot(x=movie_counts_per_year.index, y=movie_counts_per_year.values)\n",
    "\n",
    "# Adding labels and title\n",
    "plt.xlabel('Year', size=15, labelpad=15)\n",
    "plt.ylabel('no of movies ', size=15, labelpad=15)\n",
    "plt.title('Year Trends', fontsize=15, pad=15);\n",
    "\n",
    "plt.show()"
   ]
  },
  {
   "cell_type": "markdown",
   "id": "1e8258f2",
   "metadata": {},
   "source": [
    "### 6. BUDGET DISTRIBUTION OF MOVIES"
   ]
  },
  {
   "cell_type": "code",
   "execution_count": 39,
   "id": "79d5b990",
   "metadata": {},
   "outputs": [
    {
     "data": {
      "image/png": "[encoded data removed]",
      "text/plain": [
       "<Figure size 1152x432 with 1 Axes>"
      ]
     },
     "metadata": {},
     "output_type": "display_data"
    }
   ],
   "source": [
    "# plot histogram\n",
    "sns.histplot(data=df, x='Budget', bins=30)\n",
    "plt.show()"
   ]
  },
  {
   "cell_type": "markdown",
   "id": "cb967c61",
   "metadata": {},
   "source": [
    "This shows that most of the movies had a budget less than 50 million "
   ]
  },
  {
   "cell_type": "markdown",
   "id": "3fcfb6fb",
   "metadata": {},
   "source": [
    "### 7. CORRELATION ANALYSIS "
   ]
  },
  {
   "cell_type": "markdown",
   "id": "f348e7af",
   "metadata": {},
   "source": [
    "Here I will check the correlation between numeric datatypes"
   ]
  },
  {
   "cell_type": "code",
   "execution_count": 40,
   "id": "fa0c0717",
   "metadata": {},
   "outputs": [
    {
     "data": {
      "text/html": [
       "<div>\n",
       "<style scoped>\n",
       "    .dataframe tbody tr th:only-of-type {\n",
       "        vertical-align: middle;\n",
       "    }\n",
       "\n",
       "    .dataframe tbody tr th {\n",
       "        vertical-align: top;\n",
       "    }\n",
       "\n",
       "    .dataframe thead th {\n",
       "        text-align: right;\n",
       "    }\n",
       "</style>\n",
       "<table border=\"1\" class=\"dataframe\">\n",
       "  <thead>\n",
       "    <tr style=\"text-align: right;\">\n",
       "      <th></th>\n",
       "      <th>Year</th>\n",
       "      <th>Score</th>\n",
       "      <th>Votes</th>\n",
       "      <th>Budget</th>\n",
       "      <th>Gross</th>\n",
       "      <th>Runtime</th>\n",
       "    </tr>\n",
       "  </thead>\n",
       "  <tbody>\n",
       "    <tr>\n",
       "      <th>Year</th>\n",
       "      <td>1.000000</td>\n",
       "      <td>0.056386</td>\n",
       "      <td>0.206021</td>\n",
       "      <td>0.327722</td>\n",
       "      <td>0.274321</td>\n",
       "      <td>0.075077</td>\n",
       "    </tr>\n",
       "    <tr>\n",
       "      <th>Score</th>\n",
       "      <td>0.056386</td>\n",
       "      <td>1.000000</td>\n",
       "      <td>0.474256</td>\n",
       "      <td>0.072001</td>\n",
       "      <td>0.222556</td>\n",
       "      <td>0.414068</td>\n",
       "    </tr>\n",
       "    <tr>\n",
       "      <th>Votes</th>\n",
       "      <td>0.206021</td>\n",
       "      <td>0.474256</td>\n",
       "      <td>1.000000</td>\n",
       "      <td>0.439675</td>\n",
       "      <td>0.614751</td>\n",
       "      <td>0.352303</td>\n",
       "    </tr>\n",
       "    <tr>\n",
       "      <th>Budget</th>\n",
       "      <td>0.327722</td>\n",
       "      <td>0.072001</td>\n",
       "      <td>0.439675</td>\n",
       "      <td>1.000000</td>\n",
       "      <td>0.740247</td>\n",
       "      <td>0.318695</td>\n",
       "    </tr>\n",
       "    <tr>\n",
       "      <th>Gross</th>\n",
       "      <td>0.274321</td>\n",
       "      <td>0.222556</td>\n",
       "      <td>0.614751</td>\n",
       "      <td>0.740247</td>\n",
       "      <td>1.000000</td>\n",
       "      <td>0.275796</td>\n",
       "    </tr>\n",
       "    <tr>\n",
       "      <th>Runtime</th>\n",
       "      <td>0.075077</td>\n",
       "      <td>0.414068</td>\n",
       "      <td>0.352303</td>\n",
       "      <td>0.318695</td>\n",
       "      <td>0.275796</td>\n",
       "      <td>1.000000</td>\n",
       "    </tr>\n",
       "  </tbody>\n",
       "</table>\n",
       "</div>"
      ],
      "text/plain": [
       "             Year     Score     Votes    Budget     Gross   Runtime\n",
       "Year     1.000000  0.056386  0.206021  0.327722  0.274321  0.075077\n",
       "Score    0.056386  1.000000  0.474256  0.072001  0.222556  0.414068\n",
       "Votes    0.206021  0.474256  1.000000  0.439675  0.614751  0.352303\n",
       "Budget   0.327722  0.072001  0.439675  1.000000  0.740247  0.318695\n",
       "Gross    0.274321  0.222556  0.614751  0.740247  1.000000  0.275796\n",
       "Runtime  0.075077  0.414068  0.352303  0.318695  0.275796  1.000000"
      ]
     },
     "execution_count": 40,
     "metadata": {},
     "output_type": "execute_result"
    }
   ],
   "source": [
    "corr=df.corr()\n",
    "corr"
   ]
  },
  {
   "cell_type": "code",
   "execution_count": 41,
   "id": "46361074",
   "metadata": {},
   "outputs": [
    {
     "data": {
      "image/png": "[encoded data removed]",
      "text/plain": [
       "<Figure size 1152x432 with 2 Axes>"
      ]
     },
     "metadata": {},
     "output_type": "display_data"
    }
   ],
   "source": [
    "sns.heatmap(corr,cmap='crest',annot=True)\n",
    "\n",
    "plt.title('Correlation Analysis', fontsize=15, pad=15)\n",
    "plt.show()"
   ]
  },
  {
   "cell_type": "markdown",
   "id": "2d4bb95d",
   "metadata": {},
   "source": [
    "Budget and gross , Gross and votes are highly correlated while Budget and votes are correlated a little, The remaining variables have really low correlation"
   ]
  },
  {
   "cell_type": "markdown",
   "id": "0501fe18",
   "metadata": {},
   "source": [
    "### 8. BUDGET AND GROSS RELATIONSHIP "
   ]
  },
  {
   "cell_type": "code",
   "execution_count": 42,
   "id": "fdc3a4e5",
   "metadata": {},
   "outputs": [
    {
     "data": {
      "image/png": "[encoded data removed]",
      "text/plain": [
       "<Figure size 1152x432 with 1 Axes>"
      ]
     },
     "metadata": {},
     "output_type": "display_data"
    }
   ],
   "source": [
    "# plot correlation graph between Budget and Revenue \n",
    "sns.regplot(data =df, x='Budget', y='Gross', scatter_kws={'alpha':0.4})\n",
    "\n",
    "# Adding labels and title\n",
    "plt.xlabel('Budget', size=15, labelpad=15)\n",
    "plt.ylabel('Gross', size=15, labelpad=15)\n",
    "plt.title('Budget vs Gross analysis', fontsize=15, pad=15)\n",
    "plt.show()"
   ]
  },
  {
   "cell_type": "markdown",
   "id": "93f1662e",
   "metadata": {},
   "source": [
    "This shows that the higher the movie budget the higher the revenue generated "
   ]
  },
  {
   "cell_type": "markdown",
   "id": "f07b0c21",
   "metadata": {},
   "source": [
    "### 9. COMPANY PERFORMANCE"
   ]
  },
  {
   "cell_type": "code",
   "execution_count": 43,
   "id": "c930ddb0",
   "metadata": {},
   "outputs": [
    {
     "data": {
      "text/html": [
       "<div>\n",
       "<style scoped>\n",
       "    .dataframe tbody tr th:only-of-type {\n",
       "        vertical-align: middle;\n",
       "    }\n",
       "\n",
       "    .dataframe tbody tr th {\n",
       "        vertical-align: top;\n",
       "    }\n",
       "\n",
       "    .dataframe thead th {\n",
       "        text-align: right;\n",
       "    }\n",
       "</style>\n",
       "<table border=\"1\" class=\"dataframe\">\n",
       "  <thead>\n",
       "    <tr style=\"text-align: right;\">\n",
       "      <th></th>\n",
       "      <th>Gross</th>\n",
       "    </tr>\n",
       "    <tr>\n",
       "      <th>Company</th>\n",
       "      <th></th>\n",
       "    </tr>\n",
       "  </thead>\n",
       "  <tbody>\n",
       "    <tr>\n",
       "      <th>Marvel Studios</th>\n",
       "      <td>1.255466e+09</td>\n",
       "    </tr>\n",
       "    <tr>\n",
       "      <th>Illumination Entertainment</th>\n",
       "      <td>1.097122e+09</td>\n",
       "    </tr>\n",
       "    <tr>\n",
       "      <th>Fairview Entertainment</th>\n",
       "      <td>9.665549e+08</td>\n",
       "    </tr>\n",
       "    <tr>\n",
       "      <th>B24</th>\n",
       "      <td>8.806815e+08</td>\n",
       "    </tr>\n",
       "    <tr>\n",
       "      <th>Avi Arad Productions</th>\n",
       "      <td>8.560852e+08</td>\n",
       "    </tr>\n",
       "    <tr>\n",
       "      <th>Chris Morgan Productions</th>\n",
       "      <td>7.590569e+08</td>\n",
       "    </tr>\n",
       "    <tr>\n",
       "      <th>Jolie Pas</th>\n",
       "      <td>7.584118e+08</td>\n",
       "    </tr>\n",
       "    <tr>\n",
       "      <th>Lucasfilm</th>\n",
       "      <td>7.185352e+08</td>\n",
       "    </tr>\n",
       "    <tr>\n",
       "      <th>Marvel Entertainment</th>\n",
       "      <td>7.144215e+08</td>\n",
       "    </tr>\n",
       "    <tr>\n",
       "      <th>Beijing Dengfeng International Culture Communications Company</th>\n",
       "      <td>6.999925e+08</td>\n",
       "    </tr>\n",
       "    <tr>\n",
       "      <th>Pixar Animation Studios</th>\n",
       "      <td>6.571954e+08</td>\n",
       "    </tr>\n",
       "    <tr>\n",
       "      <th>Dentsu</th>\n",
       "      <td>6.342084e+08</td>\n",
       "    </tr>\n",
       "    <tr>\n",
       "      <th>FortyFour Studios</th>\n",
       "      <td>5.895908e+08</td>\n",
       "    </tr>\n",
       "    <tr>\n",
       "      <th>Allison Shearmur Productions</th>\n",
       "      <td>5.423583e+08</td>\n",
       "    </tr>\n",
       "    <tr>\n",
       "      <th>Syncopy</th>\n",
       "      <td>5.270163e+08</td>\n",
       "    </tr>\n",
       "    <tr>\n",
       "      <th>Hughes Entertainment</th>\n",
       "      <td>4.766847e+08</td>\n",
       "    </tr>\n",
       "    <tr>\n",
       "      <th>Twentieth Century Fox Animation</th>\n",
       "      <td>4.733715e+08</td>\n",
       "    </tr>\n",
       "    <tr>\n",
       "      <th>Color Force</th>\n",
       "      <td>4.706041e+08</td>\n",
       "    </tr>\n",
       "    <tr>\n",
       "      <th>Blue Sky Studios</th>\n",
       "      <td>4.701604e+08</td>\n",
       "    </tr>\n",
       "    <tr>\n",
       "      <th>Hasbro</th>\n",
       "      <td>4.679896e+08</td>\n",
       "    </tr>\n",
       "    <tr>\n",
       "      <th>Beijing Diqi Yinxiang Entertainment</th>\n",
       "      <td>4.614216e+08</td>\n",
       "    </tr>\n",
       "    <tr>\n",
       "      <th>Marvel Enterprises</th>\n",
       "      <td>4.440810e+08</td>\n",
       "    </tr>\n",
       "    <tr>\n",
       "      <th>Warner Bros. Pictures</th>\n",
       "      <td>4.361889e+08</td>\n",
       "    </tr>\n",
       "    <tr>\n",
       "      <th>C-2 Pictures</th>\n",
       "      <td>4.333711e+08</td>\n",
       "    </tr>\n",
       "    <tr>\n",
       "      <th>DreamWorks Animation</th>\n",
       "      <td>4.240576e+08</td>\n",
       "    </tr>\n",
       "  </tbody>\n",
       "</table>\n",
       "</div>"
      ],
      "text/plain": [
       "                                                           Gross\n",
       "Company                                                         \n",
       "Marvel Studios                                      1.255466e+09\n",
       "Illumination Entertainment                          1.097122e+09\n",
       "Fairview Entertainment                              9.665549e+08\n",
       "B24                                                 8.806815e+08\n",
       "Avi Arad Productions                                8.560852e+08\n",
       "Chris Morgan Productions                            7.590569e+08\n",
       "Jolie Pas                                           7.584118e+08\n",
       "Lucasfilm                                           7.185352e+08\n",
       "Marvel Entertainment                                7.144215e+08\n",
       "Beijing Dengfeng International Culture Communic...  6.999925e+08\n",
       "Pixar Animation Studios                             6.571954e+08\n",
       "Dentsu                                              6.342084e+08\n",
       "FortyFour Studios                                   5.895908e+08\n",
       "Allison Shearmur Productions                        5.423583e+08\n",
       "Syncopy                                             5.270163e+08\n",
       "Hughes Entertainment                                4.766847e+08\n",
       "Twentieth Century Fox Animation                     4.733715e+08\n",
       "Color Force                                         4.706041e+08\n",
       "Blue Sky Studios                                    4.701604e+08\n",
       "Hasbro                                              4.679896e+08\n",
       "Beijing Diqi Yinxiang Entertainment                 4.614216e+08\n",
       "Marvel Enterprises                                  4.440810e+08\n",
       "Warner Bros. Pictures                               4.361889e+08\n",
       "C-2 Pictures                                        4.333711e+08\n",
       "DreamWorks Animation                                4.240576e+08"
      ]
     },
     "execution_count": 43,
     "metadata": {},
     "output_type": "execute_result"
    }
   ],
   "source": [
    "company_average_revenue=df[['Company', 'Gross']].groupby('Company').mean()\n",
    "sorted_company_average_revenue=company_average_revenue.sort_values('Gross', ascending=False)\n",
    "top_company_average_revenue =sorted_company_average_revenue.head(25)\n",
    "top_company_average_revenue"
   ]
  },
  {
   "cell_type": "code",
   "execution_count": 44,
   "id": "ff7bdd48",
   "metadata": {},
   "outputs": [
    {
     "data": {
      "image/png": "[encoded data removed]",
      "text/plain": [
       "<Figure size 1152x432 with 1 Axes>"
      ]
     },
     "metadata": {},
     "output_type": "display_data"
    }
   ],
   "source": [
    "# plot the barplot\n",
    "barplot=sns.barplot(x=top_company_average_revenue.index, y=top_company_average_revenue['Gross'], color='blue')\n",
    "\n",
    "# Adding annotations\n",
    "for index, value in enumerate(top_company_average_revenue['Gross']):\n",
    "    barplot.text(index, value, f'{value/1e9:.2f}', ha='center', va='bottom', fontsize=15, color='black')\n",
    "\n",
    "# Adding labels and title\n",
    "plt.xlabel('Company', size=15, labelpad=15)\n",
    "plt.ylabel('Average Gross Revenue In Billions', size=15, labelpad=15)\n",
    "plt.title('Top Companies by Average Revenue', fontsize=15, pad=15)\n",
    "plt.xticks(rotation=90)\n",
    "# Display the plot\n",
    "plt.show()"
   ]
  },
  {
   "cell_type": "markdown",
   "id": "12ddccbd",
   "metadata": {},
   "source": [
    "# INSIGHTS "
   ]
  },
  {
   "cell_type": "markdown",
   "id": "cfe151ef",
   "metadata": {},
   "source": [
    "1. The industry seem to be studded with brilliant directors, the top director Robert Benigni has an average rating of 8.6, other directors are also on the edge with their very close average movie rating.\n",
    "2. Movies with family genre might have won people's heart generating over 500 million despite only 4 movies being produced \n",
    "3. Comedy movies are the most produced movies over the years\n",
    "4. United state produced the most movies, over 4000 movies have been produced over the years \n",
    "5. There was a huge decline in movie production in year 2020, this would be because of Covid\n",
    "6. Most of the produced movies had budget less than 50 million \n",
    "7. The higher the budget on a movie, the higher the revenue generated \n",
    "8. Marvel Studios is the top performing company having generated over 1 billion"
   ]
  }
 ],
 "metadata": {
  "kernelspec": {
   "display_name": "Python 3 (ipykernel)",
   "language": "python",
   "name": "python3"
  },
  "language_info": {
   "codemirror_mode": {
    "name": "ipython",
    "version": 3
   },
   "file_extension": ".py",
   "mimetype": "text/x-python",
   "name": "python",
   "nbconvert_exporter": "python",
   "pygments_lexer": "ipython3",
   "version": "3.11.5"
  }
 },
 "nbformat": 4,
 "nbformat_minor": 5
}
